{
 "cells": [
  {
   "cell_type": "code",
   "execution_count": null,
   "metadata": {},
   "outputs": [],
   "source": [
    "import numpy as np\n",
    "import matplotlib.pyplot as plt"
   ]
  },
  {
   "cell_type": "code",
   "execution_count": null,
   "metadata": {},
   "outputs": [],
   "source": [
    "#set array from (0, 2*pi) for x with 1000 values\n",
    "#in a single line -- not using an n value\n",
    "x = np.arange(0, 2*(np.pi), 0.001) #array with values o to 2pi in increments of 0.001"
   ]
  },
  {
   "cell_type": "code",
   "execution_count": null,
   "metadata": {},
   "outputs": [],
   "source": [
    "#set equations to be plotted\n",
    "a = 5.5*(np.cos(2*x)) + 5.5 #y(x) = 5.5cos(2x)+5.5\n",
    "b = 0.02*np.exp(x)     #y(x) = 0.02*e^x\n",
    "c = 0.25*(x**2) + 0.1*(np.sin(10*x))  #y(x) = 0.25*(x^2) + 0.1sin(10x) "
   ]
  },
  {
   "cell_type": "code",
   "execution_count": null,
   "metadata": {},
   "outputs": [],
   "source": [
    "#create plot with given equations\n",
    "plt.plot(x,a, label=r'$y(x) = 5.5cos(2x)+5.5$')   #plots x versus y_a(x) and labels the plot\n",
    "plt.plot(x,b,label=r'$y(x) = 0.02*e^x$')     #plots x versus y_b(x) and labels the plot\n",
    "plt.plot(x,c,label=r'$y(x) = 0.25*(x^2) + 0.1sin(10x)$') #plots x versus y_c(x) and labels the plot\n",
    "#set the limits of the plot axes\n",
    "plt.xlim(0, 2*(np.pi))   #sets the x range [0,2*pi] on plot\n",
    "plt.ylim(-1,10)          #sets the y range [-1,10] on plot\n",
    "#label the plot\n",
    "plt.xlabel('Time in ASTR 119')  #labels x axis\n",
    "plt.ylabel('Measures of Awesomeness')  #labels y axis\n",
    "#add a legend\n",
    "plt.legend(loc=2, framealpha=False)        \n",
    "#show the final plot\n",
    "plt.show()"
   ]
  }
 ],
 "metadata": {
  "kernelspec": {
   "display_name": "Python 3",
   "language": "python",
   "name": "python3"
  },
  "language_info": {
   "codemirror_mode": {
    "name": "ipython",
    "version": 3
   },
   "file_extension": ".py",
   "mimetype": "text/x-python",
   "name": "python",
   "nbconvert_exporter": "python",
   "pygments_lexer": "ipython3",
   "version": "3.8.5"
  }
 },
 "nbformat": 4,
 "nbformat_minor": 4
}
