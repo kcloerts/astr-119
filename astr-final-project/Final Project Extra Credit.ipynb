{
 "cells": [
  {
   "cell_type": "markdown",
   "metadata": {},
   "source": [
    "# Extra Credit for Final Project"
   ]
  },
  {
   "cell_type": "markdown",
   "metadata": {},
   "source": [
    "### Import numpy, matplotlib and astropy "
   ]
  },
  {
   "cell_type": "code",
   "execution_count": null,
   "metadata": {},
   "outputs": [],
   "source": [
    "%matplotlib inline\n",
    "import numpy as np\n",
    "import matplotlib.pyplot as plt\n",
    "from astropy.io import fits\n",
    "import matplotlib.colors as colors\n",
    "import scipy.ndimage as ndimage"
   ]
  },
  {
   "cell_type": "markdown",
   "metadata": {},
   "source": [
    "### Open the files"
   ]
  },
  {
   "cell_type": "code",
   "execution_count": null,
   "metadata": {},
   "outputs": [],
   "source": [
    "fname = \"hudf.fits\"\n",
    "hdu_list = fits.open(fname)\n",
    "hdu_list.info()\n",
    "f105w = fits.getdata(fname)\n",
    "print(type(f105w))\n",
    "print(f105w.shape)"
   ]
  },
  {
   "cell_type": "code",
   "execution_count": null,
   "metadata": {},
   "outputs": [],
   "source": [
    "fname = \"f160w.fits\"\n",
    "hdu_list = fits.open(fname)\n",
    "hdu_list.info()\n",
    "f160w = fits.getdata(fname)\n",
    "print(type(f160w))\n",
    "print(f160w.shape)"
   ]
  },
  {
   "cell_type": "code",
   "execution_count": null,
   "metadata": {},
   "outputs": [],
   "source": [
    "fname = \"f125w.fits\"\n",
    "hdu_list = fits.open(fname)\n",
    "hdu_list.info()\n",
    "f125w = fits.getdata(fname)\n",
    "print(type(f125w))\n",
    "print(f125w.shape)"
   ]
  },
  {
   "cell_type": "markdown",
   "metadata": {},
   "source": [
    "### Show f125w in Green color scheme"
   ]
  },
  {
   "cell_type": "code",
   "execution_count": null,
   "metadata": {},
   "outputs": [],
   "source": [
    "data = f125w.byteswap().newbyteorder() #fixes negative values\n",
    "data = ndimage.rotate(f125w, 40, reshape=True)\n",
    "m, s = np.mean(data), np.std(data)\n",
    "plt.imshow(data,interpolation='nearest',cmap='Greens',vmin=m-s, vmax=m+s, origin='lower')\n",
    "plt.xlim([1500,3600]) #adjust x axis\n",
    "plt.ylim([1500,3600])"
   ]
  },
  {
   "cell_type": "markdown",
   "metadata": {},
   "source": [
    "### Show f160w in Red color scheme"
   ]
  },
  {
   "cell_type": "code",
   "execution_count": null,
   "metadata": {},
   "outputs": [],
   "source": [
    "data = f160w.byteswap().newbyteorder() #fixes negative values\n",
    "data = ndimage.rotate(f160w, 40, reshape=True)\n",
    "m, s = np.mean(data), np.std(data)\n",
    "plt.imshow(data,interpolation='nearest',cmap='Reds',vmin=m-s, vmax=m+s, origin='lower')\n",
    "plt.xlim([1500,3600]) #adjust x axis\n",
    "plt.ylim([1500,3600])"
   ]
  },
  {
   "cell_type": "markdown",
   "metadata": {},
   "source": [
    "### Show f105w in Blue color scheme"
   ]
  },
  {
   "cell_type": "code",
   "execution_count": null,
   "metadata": {},
   "outputs": [],
   "source": [
    "data = f105w.byteswap().newbyteorder() #fixes negative values\n",
    "data = ndimage.rotate(f105w, 40, reshape=True)\n",
    "m, s = np.mean(data), np.std(data)\n",
    "plt.imshow(data,interpolation='nearest',cmap='Blues',vmin=m-s, vmax=m+s, origin='lower')\n",
    "plt.xlim([1500,3600]) #adjust x axis\n",
    "plt.ylim([1500,3600])"
   ]
  },
  {
   "cell_type": "markdown",
   "metadata": {},
   "source": [
    "### Make list of the filenames"
   ]
  },
  {
   "cell_type": "code",
   "execution_count": null,
   "metadata": {},
   "outputs": [],
   "source": [
    "image_list = ['f160w.fits','f125w.fits','hudf.fits']"
   ]
  },
  {
   "cell_type": "markdown",
   "metadata": {},
   "source": [
    "### Make array of images"
   ]
  },
  {
   "cell_type": "code",
   "execution_count": null,
   "metadata": {},
   "outputs": [],
   "source": [
    "image_concat = [fits.getdata(image) for image in image_list]"
   ]
  },
  {
   "cell_type": "markdown",
   "metadata": {},
   "source": [
    "### Sum together the images"
   ]
  },
  {
   "cell_type": "code",
   "execution_count": null,
   "metadata": {},
   "outputs": [],
   "source": [
    "final_image = np.sum(image_concat, axis=0)"
   ]
  },
  {
   "cell_type": "markdown",
   "metadata": {},
   "source": [
    "### Show final image in hsv color map"
   ]
  },
  {
   "cell_type": "code",
   "execution_count": null,
   "metadata": {},
   "outputs": [],
   "source": [
    "data = final_image.byteswap().newbyteorder() #fixes negative values\n",
    "data = ndimage.rotate(final_image, 40, reshape=True)\n",
    "m, s = np.mean(data), np.std(data)\n",
    "plt.imshow(data,interpolation='nearest',cmap='hsv',vmin=m-s, vmax=m+s, origin='lower')\n",
    "plt.xlim([1500,3600]) #adjust x axis\n",
    "plt.ylim([1500,3600])"
   ]
  },
  {
   "cell_type": "code",
   "execution_count": null,
   "metadata": {},
   "outputs": [],
   "source": []
  }
 ],
 "metadata": {
  "kernelspec": {
   "display_name": "Python 3",
   "language": "python",
   "name": "python3"
  },
  "language_info": {
   "codemirror_mode": {
    "name": "ipython",
    "version": 3
   },
   "file_extension": ".py",
   "mimetype": "text/x-python",
   "name": "python",
   "nbconvert_exporter": "python",
   "pygments_lexer": "ipython3",
   "version": "3.8.5"
  }
 },
 "nbformat": 4,
 "nbformat_minor": 4
}
