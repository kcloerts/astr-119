{
 "cells": [
  {
   "cell_type": "code",
   "execution_count": 1,
   "metadata": {},
   "outputs": [],
   "source": [
    "%matplotlib inline\n",
    "import numpy as np\n",
    "import matplotlib.pyplot as plt"
   ]
  },
  {
   "cell_type": "code",
   "execution_count": 2,
   "metadata": {},
   "outputs": [],
   "source": [
    "def dydx(x,y):\n",
    "    \n",
    "    #set the derivatives\n",
    "        \n",
    "    #our equation is d^2y/dx^2= -y\n",
    "    #so we can write\n",
    "    #dydx = z\n",
    "    #dzdx = -y\n",
    "    #set y = y[0]\n",
    "    #set z = y[1]\n",
    "    \n",
    "    #declare an array\n",
    "    y_derivs = np.zeros(2)\n",
    "    \n",
    "    #set dydx = z\n",
    "    y_derivs[0] = y[1]\n",
    "    \n",
    "    #set dzdx = -y\n",
    "    y_derivs[1] = -1*y[0]\n",
    "    \n",
    "    #return array\n",
    "    return y_derivs"
   ]
  },
  {
   "cell_type": "code",
   "execution_count": 3,
   "metadata": {},
   "outputs": [],
   "source": [
    "def rk4_mv_core(dydx,xi,yi,nv,h,tol):\n",
    "    \n",
    "    \n",
    "    #set arrays for coefficients\n",
    "    a = np.array([1/5,3/40,9/40,3/10,-9/10,6/5,-11/54,5/2,-70/27,35/27,1631/55296,175/512,575/13824,44275/110592,253/4096]) \n",
    "    b = np.array([37/378,0,250/621,125/594,0,512/1771])\n",
    "    b_star = np.array([2825/27648,0,18575/48384,13525/55296,277/14336,1/4])\n",
    "    c = np.array([1/5,3/10,3/5,1,7/8])\n",
    "    \n",
    "    #declare k arrays\n",
    "    k1 = np.zeros(nv)\n",
    "    k2 = np.zeros(nv)\n",
    "    k3 = np.zeros(nv)\n",
    "    k4 = np.zeros(nv)\n",
    "    k5 = np.zeros(nv)\n",
    "    k6 = np.zeros(nv)\n",
    "    \n",
    "    #Delta estimate\n",
    "    delta = np.full(nv,2*tol)\n",
    "    \n",
    "     #define safety scale\n",
    "    SAFETY = 0.9\n",
    "    H_NEW_FAC = 2.0\n",
    "    \n",
    "    #set maximum number of iterations\n",
    "    imax = 10000\n",
    "    \n",
    "    #set iteration variable\n",
    "    i = 0\n",
    "    \n",
    "     #remember the step\n",
    "    h_step = h\n",
    "    \n",
    "    while(delta.max()>tol):\n",
    "        #k1\n",
    "        y_derivs = dydx(xi,yi)\n",
    "        k1[:] = h*y_derivs[:]\n",
    "    \n",
    "        #k2\n",
    "        y_derivs = dydx(xi + c[0]*h,yi + a[0]*k1)\n",
    "        k2[:] = h*y_derivs[:]\n",
    "    \n",
    "        #k3\n",
    "        y_derivs = dydx(xi + c[1]*h, yi + a[1]*k1 + a[2]*k2)\n",
    "        k3[:] = h*y_derivs[:]\n",
    "    \n",
    "        #k4\n",
    "        y_derivs = dydx(xi + c[2]*h, yi + a[3]*k1 + a[4]*k2 + a[5]*k3)\n",
    "        k4[:] = h*y_derivs[:]\n",
    "    \n",
    "        #k5\n",
    "        y_derivs = dydx(xi + c[3]*h, yi + a[6]*k1 + a[7]*k2 + a[8]*k3 + a[9]*k4)\n",
    "        k5[:] = h*y_derivs\n",
    "    \n",
    "        #k6\n",
    "        y_derivs = dydx(xi + c[4]*h, yi + a[10]*k1 + a[11]*k2 + a[12]*k3 + a[13]*k4 + a[14]*k5)\n",
    "        k6[:] = h*y_derivs[:]\n",
    "    \n",
    "        y_ipo = b[0]*k1 + b[1]*k2 + b[2]*k3 + b[3]*k4 + b[4]*k5 + b[5]*k6\n",
    "    \n",
    "        y_star_ipo = b_star[0]*k1 + b_star[1]*k2 + b_star[2]*k3 + b_star[3]*k4 + b_star[4]*k5 + b_star[5]*k6\n",
    "        \n",
    "        Delta = np.fabs(y_ipo - y_star_ipo)\n",
    "        \n",
    "         #if the error is too large, take a smaller step\n",
    "        if(Delta.max()/tol > 1.0):\n",
    "            \n",
    "            #our error is too large, decrease the step\n",
    "            h_step *= SAFETY * (Delta.max()/tol)**(-0.25)\n",
    "            \n",
    "        # check iteration \n",
    "        if(i>=imax):\n",
    "            print(\"Too many iteration in rk4_mv_ad()\")\n",
    "            raise StopIteration(\"Ending after i = \",i)\n",
    "            \n",
    "        #iterate\n",
    "        i+=1\n",
    "        \n",
    "        h_new = np.fmin(h_step * (Delta.max()/tol)**(-0.9),h_step*H_NEW_FAC)\n",
    "        \n",
    "        return y_ipo, h_new, h_step\n"
   ]
  },
  {
   "cell_type": "code",
   "execution_count": 4,
   "metadata": {},
   "outputs": [],
   "source": [
    "def rk4_mv(dfdx,w,z,y_w,tol):\n",
    "    \n",
    "    #dfdx is the derivative wrt x\n",
    "    #w is the lower bound\n",
    "    #z is the upper bound\n",
    "    #y_a are the boundary conditions\n",
    "    #tol is ther tolerance for integrating y\n",
    "    \n",
    "    #define our starting step\n",
    "    xi = w\n",
    "    yi = y_w.copy()\n",
    "    \n",
    "    #an initial step size == make very small!\n",
    "    h = 1.0e-4 * (z-w)\n",
    "    \n",
    "    #set a maximum number of iterations\n",
    "    imax = 10000\n",
    "    \n",
    "    #set an iteration variable\n",
    "    i = 0\n",
    "    \n",
    "    #set the number of coupled odes to the\n",
    "    #size of y_w\n",
    "    nv = len(y_w)\n",
    "    \n",
    "    #set the initial conditions\n",
    "    x = np.full(1,w)\n",
    "    y = np.full((1,nv),y_w)\n",
    "    \n",
    "    #set a flag\n",
    "    flag = 1\n",
    "    \n",
    "    #loop until we reach the right side\n",
    "    while(flag):\n",
    "        \n",
    "        #calculate y_i+1\n",
    "        yi_new,h_new,h_step = rk4_mv_core(dydx,xi,yi,nv,h,tol)\n",
    "        \n",
    "        #update the step\n",
    "        h = h_new\n",
    "        \n",
    "        #prevent an overshoot\n",
    "        if(xi+h_step>z):\n",
    "            \n",
    "            #take a smaller step\n",
    "            h = z-xi\n",
    "            \n",
    "            #recalculate y_i+1\n",
    "            yi_new, h_new, h_step = rk4_mv_core(dydx,xi,yi,nv,h,tol)\n",
    "            \n",
    "            #break\n",
    "            flag = 0\n",
    "            \n",
    "        #update the values\n",
    "        xi += h_step\n",
    "        yi[:] = yi_new[:]\n",
    "        \n",
    "        #add the step to the arrays\n",
    "        x = np.append(x,xi)\n",
    "        y_new = np.zeros((len(x),nv))\n",
    "        y_new[0:len(x)-1,:] = y\n",
    "        y_new[-1,:] = yi[:]\n",
    "        del y\n",
    "        y = y_new\n",
    "        \n",
    "        #prevent too many iterations\n",
    "        if(i>=imax):\n",
    "            print(\"Maximum iterations reached\")\n",
    "            raise StopIteration(\"Iteration number = \",i)\n",
    "            \n",
    "        #iterate\n",
    "        i += 1\n",
    "        \n",
    "        #output some information\n",
    "        s = \"i =%3d\\tx = %9.8f\\th = %9.8f\\tz = %9.8f\" % (i,xi,h_step,z)\n",
    "        print(s)\n",
    "        \n",
    "        #break if new xi is == b\n",
    "        if(xi==z):\n",
    "            flag = 0\n",
    "            \n",
    "    return x,y "
   ]
  },
  {
   "cell_type": "code",
   "execution_count": 5,
   "metadata": {},
   "outputs": [
    {
     "name": "stdout",
     "output_type": "stream",
     "text": [
      "i =  1\tx = 0.00062832\th = 0.00062832\tz = 6.28318531\n",
      "i =  2\tx = 0.00188496\th = 0.00125664\tz = 6.28318531\n",
      "i =  3\tx = 0.00439823\th = 0.00251327\tz = 6.28318531\n",
      "i =  4\tx = 0.00942478\th = 0.00502655\tz = 6.28318531\n",
      "i =  5\tx = 0.01947787\th = 0.01005310\tz = 6.28318531\n",
      "i =  6\tx = 0.03958407\th = 0.02010619\tz = 6.28318531\n",
      "i =  7\tx = 0.07979645\th = 0.04021239\tz = 6.28318531\n",
      "i =  8\tx = 0.16022123\th = 0.08042477\tz = 6.28318531\n",
      "i =  9\tx = 0.32107077\th = 0.16084954\tz = 6.28318531\n",
      "i = 10\tx = 0.64276986\th = 0.32169909\tz = 6.28318531\n",
      "i = 11\tx = 1.28616803\th = 0.64339818\tz = 6.28318531\n",
      "i = 12\tx = 2.57296438\th = 1.28679635\tz = 6.28318531\n",
      "i = 13\tx = 5.14655709\th = 2.57359270\tz = 6.28318531\n",
      "i = 14\tx = 6.28318531\th = 1.13662822\tz = 6.28318531\n"
     ]
    },
    {
     "name": "stderr",
     "output_type": "stream",
     "text": [
      "<ipython-input-3-afc8443b70ff>:79: RuntimeWarning: divide by zero encountered in double_scalars\n",
      "  h_new = np.fmin(h_step * (Delta.max()/tol)**(-0.9),h_step*H_NEW_FAC)\n"
     ]
    }
   ],
   "source": [
    "w = 0.0\n",
    "z = 2.0 * np.pi\n",
    "\n",
    "y_0 = np.zeros(2)\n",
    "y_0[0] = 0.0\n",
    "y_0[1] = 1.0\n",
    "nv = 2\n",
    "\n",
    "tolerance = 1.0e-6\n",
    "\n",
    "#perform the integration\n",
    "x,y = rk4_mv(dydx,w,z,y_0,tolerance)"
   ]
  },
  {
   "cell_type": "code",
   "execution_count": 6,
   "metadata": {},
   "outputs": [
    {
     "data": {
      "text/plain": [
       "<matplotlib.legend.Legend at 0x1fb8098b8e0>"
      ]
     },
     "execution_count": 6,
     "metadata": {},
     "output_type": "execute_result"
    },
    {
     "data": {
      "image/png": "[encoded data removed]",
      "text/plain": [
       "<Figure size 432x288 with 1 Axes>"
      ]
     },
     "metadata": {
      "needs_background": "light"
     },
     "output_type": "display_data"
    }
   ],
   "source": [
    "plt.plot(x,y[:,0],'o',label='y(x)')\n",
    "plt.plot(x,y[:,1],'o',label='dydx(x)')\n",
    "xx = np.linspace(0,2.0*np.pi,1000)\n",
    "plt.plot(xx,np.sin(xx),label='sin(x)')\n",
    "plt.plot(xx,np.cos(xx),label='cos(x)')\n",
    "plt.xlabel('x')\n",
    "plt.ylabel('y,dy/dx')\n",
    "plt.legend(frameon=False)"
   ]
  },
  {
   "cell_type": "code",
   "execution_count": 7,
   "metadata": {},
   "outputs": [
    {
     "data": {
      "text/plain": [
       "<matplotlib.legend.Legend at 0x1fb82febf70>"
      ]
     },
     "execution_count": 7,
     "metadata": {},
     "output_type": "execute_result"
    },
    {
     "data": {
      "image/png": "[encoded data removed]",
      "text/plain": [
       "<Figure size 432x288 with 1 Axes>"
      ]
     },
     "metadata": {
      "needs_background": "light"
     },
     "output_type": "display_data"
    }
   ],
   "source": [
    "sine = np.sin(x)\n",
    "cosine = np.cos(x)\n",
    "\n",
    "y_error = (y[:,0]-sine)\n",
    "dydx_error = (y[:,1]-cosine)\n",
    "\n",
    "plt.plot(x,y_error, label=\"y(x) Error\")\n",
    "plt.plot(x,dydx_error, label=\"dydx(x) Error\")\n",
    "plt.legend(frameon=False)"
   ]
  },
  {
   "cell_type": "code",
   "execution_count": null,
   "metadata": {},
   "outputs": [],
   "source": []
  }
 ],
 "metadata": {
  "kernelspec": {
   "display_name": "Python 3",
   "language": "python",
   "name": "python3"
  },
  "language_info": {
   "codemirror_mode": {
    "name": "ipython",
    "version": 3
   },
   "file_extension": ".py",
   "mimetype": "text/x-python",
   "name": "python",
   "nbconvert_exporter": "python",
   "pygments_lexer": "ipython3",
   "version": "3.8.5"
  }
 },
 "nbformat": 4,
 "nbformat_minor": 4
}
